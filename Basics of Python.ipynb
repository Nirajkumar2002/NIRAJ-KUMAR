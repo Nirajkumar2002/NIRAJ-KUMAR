{
 "cells": [
  {
   "cell_type": "markdown",
   "id": "cfb7e943",
   "metadata": {},
   "source": [
    "### Introduction to Python "
   ]
  },
  {
   "cell_type": "code",
   "execution_count": 1,
   "id": "91861798",
   "metadata": {},
   "outputs": [
    {
     "name": "stdout",
     "output_type": "stream",
     "text": [
      "Hello World\n",
      "I love \"Python\" and \"Machine Learning.\"\n"
     ]
    }
   ],
   "source": [
    "# how to print in python\n",
    "\n",
    "print(\"Hello World\")\n",
    "print('''I love \"Python\" and \"Machine Learning\".''')\n"
   ]
  },
  {
   "cell_type": "code",
   "execution_count": 39,
   "id": "95558c71",
   "metadata": {},
   "outputs": [
    {
     "name": "stdout",
     "output_type": "stream",
     "text": [
      "10\n",
      "10\n"
     ]
    }
   ],
   "source": [
    "#How to take input from user\n",
    "a=input()\n",
    "print(a)"
   ]
  },
  {
   "cell_type": "code",
   "execution_count": 11,
   "id": "caeb52a4",
   "metadata": {},
   "outputs": [],
   "source": [
    "# Basic Data Types in python\n",
    "\n",
    "#Number\n",
    "a=10           # here  a is variable storing the integer value 10\n",
    "\n",
    "# Text\n",
    "b=\"Hi\"         # here  b is variable storing the string value \"Hi\"\n",
    "\n",
    "# Bool\n",
    "c=True         # here  c is variable storing the boolean value True\n",
    "\n",
    "#Decimal values\n",
    "\n",
    "d=10.254       # here  a is variable storing the float value 10.254\n"
   ]
  },
  {
   "cell_type": "code",
   "execution_count": 14,
   "id": "e166ce32",
   "metadata": {},
   "outputs": [
    {
     "name": "stdout",
     "output_type": "stream",
     "text": [
      "10 ------ <class 'int'>\n",
      "Hi ------ <class 'str'>\n",
      "True ---- <class 'bool'>\n",
      "10.254 -- <class 'float'>\n"
     ]
    }
   ],
   "source": [
    "# type() is function that gives you the infomation about datatype of the variable\n",
    "\n",
    "print(a,\"------\",type(a))\n",
    "print(b,\"------\",type(b))\n",
    "print(c,\"----\",type(c))\n",
    "print(d,\"--\",type(d))"
   ]
  },
  {
   "cell_type": "code",
   "execution_count": 4,
   "id": "ec740a42",
   "metadata": {},
   "outputs": [],
   "source": [
    "#Basical Mathematical Operations\n",
    "a=12\n",
    "b=5\n",
    "\n",
    "#Add\n",
    "c=a+b\n",
    "\n",
    "#Subtract\n",
    "d=a-b\n",
    "\n",
    "# Multiply\n",
    "e=a*b\n",
    "\n",
    "#Division\n",
    "f=a/b     #this will give you the float value  2.4\n",
    "g=a//b    #this will give you the integer value  2\n",
    "\n",
    "#modulous gives you the remainder as output\n",
    "h=a%b"
   ]
  },
  {
   "cell_type": "code",
   "execution_count": 6,
   "id": "7eeb4585",
   "metadata": {},
   "outputs": [
    {
     "name": "stdout",
     "output_type": "stream",
     "text": [
      "Addition of a and b is:  17 <class 'int'>\n",
      "7 <class 'int'>\n",
      "60 <class 'int'>\n",
      "2.4 <class 'float'>\n",
      "2 <class 'int'>\n",
      "2 <class 'int'>\n"
     ]
    }
   ],
   "source": [
    "print(\"Addition of a and b is: \",  c,   type(c))\n",
    "print(\"Subtraction of a and b is: \",d,type(d))\n",
    "print(\"Multiplication of a and b is: \",e,type(e))\n",
    "print(\"Division of a and b is: \",f,type(f))\n",
    "print(\"Addition of a and b is: \",g,type(g))\n",
    "print(\"Modulous of a and b is: \",h,type(h))"
   ]
  },
  {
   "cell_type": "markdown",
   "id": "f51d3d1c",
   "metadata": {},
   "source": [
    "### Type Conversion and Type Casting\n",
    "\n",
    "\n",
    "Type casting and type conversion are both processes of converting a value from \n",
    "one data type to another. However, there are some key differences between the two.\n",
    "Type casting is when the programmer manually converts a value from one data type to another. This is done using the built-in functions int(), float(), str(), bool(), and complex()."
   ]
  },
  {
   "cell_type": "code",
   "execution_count": 15,
   "id": "c6b1e8a0",
   "metadata": {},
   "outputs": [],
   "source": [
    "#Basical Mathematical Operations\n",
    "a=12\n",
    "b=5.0\n",
    "\n",
    "#Add\n",
    "c=a+b\n",
    "\n",
    "#Subtract\n",
    "d=a-b\n",
    "\n",
    "# Multiply\n",
    "e=a*b\n",
    "\n",
    "#Division\n",
    "f=a/b     #this will give you the float value  2.4\n",
    "g=a//b    #this will give you the integer value  2\n",
    "\n",
    "#modulous gives you the remainder as output\n",
    "h=a%b"
   ]
  },
  {
   "cell_type": "code",
   "execution_count": 53,
   "id": "894462f7",
   "metadata": {},
   "outputs": [
    {
     "name": "stdout",
     "output_type": "stream",
     "text": [
      "Here what you see is, computer itself converting the data type of the output to float\n",
      "Addition of a and b is:  17.0 <class 'float'>\n",
      "Subtraction of a and b is:  7.0 <class 'float'>\n",
      "Multiplication of a and b is:  60.0 <class 'float'>\n",
      "Division of a and b is:  2.4 <class 'float'>\n",
      "Modulous of a and b is:  2.0 <class 'float'>\n",
      "----------------------------------------------------------------------\n",
      "Here what you see is, programmer itself converting the data type of the output\n",
      "Addition of a and b is:  17\n",
      "Subtraction of a and b is:  7\n",
      "Multiplication of a and b is:  (60+0j)\n",
      "Division of a and b is:  2.4\n",
      "Modulous of a and b is:  2.0\n"
     ]
    }
   ],
   "source": [
    "#Type Conversion\n",
    "print(\"Here what you see is, computer itself converting the data type of the output to float\")\n",
    "print(\"Addition of a and b is: \",  c,   type(c))\n",
    "print(\"Subtraction of a and b is: \",d,type(d))\n",
    "print(\"Multiplication of a and b is: \",e,type(e))\n",
    "print(\"Division of a and b is: \",f,type(f))\n",
    "print(\"Modulous of a and b is: \",h,type(h))\n",
    "\n",
    "print(\"----------------------------------------------------------------------\")\n",
    "\n",
    "#Type Casting\n",
    "print(\"Here what you see is, programmer itself converting the data type of the output\")\n",
    "print(\"Addition of a and b is: \",  int(c))\n",
    "print(\"Subtraction of a and b is: \",int(d))\n",
    "print(\"Multiplication of a and b is: \",complex(e))\n",
    "print(\"Division of a and b is: \", f)\n",
    "print(\"Modulous of a and b is: \", h)"
   ]
  },
  {
   "cell_type": "markdown",
   "id": "339947c1",
   "metadata": {},
   "source": [
    "### Function "
   ]
  },
  {
   "cell_type": "code",
   "execution_count": 19,
   "id": "60ee80e1",
   "metadata": {},
   "outputs": [],
   "source": [
    "def add(a,b):\n",
    "    c=a+b\n",
    "    return c"
   ]
  },
  {
   "cell_type": "code",
   "execution_count": 20,
   "id": "ccf5bb34",
   "metadata": {},
   "outputs": [
    {
     "name": "stdout",
     "output_type": "stream",
     "text": [
      "15\n"
     ]
    }
   ],
   "source": [
    "print(add(10,5))"
   ]
  },
  {
   "cell_type": "markdown",
   "id": "1d104a94",
   "metadata": {},
   "source": [
    "### Question"
   ]
  },
  {
   "cell_type": "markdown",
   "id": "79516464",
   "metadata": {},
   "source": [
    "Q1. Write a python function which take only name as argument(from the user) and display the output \"Hello (passed_argement)\". \n",
    "\n",
    "Q2. Make a function that takes two argument and performs all mathematical calculation.\n"
   ]
  },
  {
   "cell_type": "code",
   "execution_count": 81,
   "id": "91fd033d",
   "metadata": {},
   "outputs": [
    {
     "name": "stdout",
     "output_type": "stream",
     "text": [
      "Ashu\n",
      "Hello Ashu\n"
     ]
    }
   ],
   "source": [
    "#Q1\n",
    "def name(b):\n",
    "    print(\"Hello\",b)\n",
    "    \n",
    "z=input()\n",
    "name(z)\n"
   ]
  },
  {
   "cell_type": "code",
   "execution_count": 30,
   "id": "f7702fc9",
   "metadata": {},
   "outputs": [
    {
     "data": {
      "text/plain": [
       "(15, 5, 50, 2.0)"
      ]
     },
     "execution_count": 30,
     "metadata": {},
     "output_type": "execute_result"
    }
   ],
   "source": [
    "#Q2.\n",
    "def calculate(a,b):\n",
    "    return a+b,a-b,a*b,a/b\n",
    "\n",
    "calculate(10,5)"
   ]
  },
  {
   "cell_type": "markdown",
   "id": "10fdf15a",
   "metadata": {},
   "source": [
    "### Loops"
   ]
  },
  {
   "cell_type": "code",
   "execution_count": 31,
   "id": "da2b9f67",
   "metadata": {
    "collapsed": true
   },
   "outputs": [
    {
     "name": "stdout",
     "output_type": "stream",
     "text": [
      "Ashu\n",
      "Ashu\n",
      "Ashu\n",
      "Ashu\n",
      "Ashu\n",
      "Ashu\n",
      "Ashu\n",
      "Ashu\n",
      "Ashu\n",
      "Ashu\n"
     ]
    }
   ],
   "source": [
    "#for loop \n",
    "# Range() : It is used to generate the sequence of the number.\n",
    "\n",
    "\n",
    "for i in range(10):\n",
    "    print(\"Ashu\")"
   ]
  },
  {
   "cell_type": "code",
   "execution_count": 32,
   "id": "cf41b4f7",
   "metadata": {
    "collapsed": true
   },
   "outputs": [
    {
     "name": "stdout",
     "output_type": "stream",
     "text": [
      "Ashu\n",
      "Ashu\n",
      "Ashu\n",
      "Ashu\n",
      "Ashu\n",
      "Ashu\n",
      "Ashu\n",
      "Ashu\n",
      "Ashu\n",
      "Ashu\n"
     ]
    }
   ],
   "source": [
    "#while loop\n",
    "i=0\n",
    "while i<10:\n",
    "    print('Ashu')\n",
    "    i+=1"
   ]
  },
  {
   "cell_type": "code",
   "execution_count": 48,
   "id": "fd17d012",
   "metadata": {},
   "outputs": [],
   "source": [
    "#continue and break keyword\n",
    "for i in range(10):\n",
    "    continue      # if we use continue statement, then the interpreter skips all the code after continue\n",
    "    print(\"Ashu\")\n",
    "    \n",
    "\n"
   ]
  },
  {
   "cell_type": "code",
   "execution_count": 47,
   "id": "4ea5a339",
   "metadata": {},
   "outputs": [
    {
     "name": "stdout",
     "output_type": "stream",
     "text": [
      "I am\n",
      "I am\n",
      "I am\n",
      "I am\n",
      "I am\n",
      "I am\n",
      "I am\n",
      "I am\n",
      "I am\n",
      "I am\n"
     ]
    }
   ],
   "source": [
    "for i in range(10):\n",
    "    print(\"I am\")\n",
    "    continue\n",
    "    print(\"Ashu\")\n",
    "    "
   ]
  },
  {
   "cell_type": "code",
   "execution_count": 50,
   "id": "bb79ffdb",
   "metadata": {},
   "outputs": [
    {
     "name": "stdout",
     "output_type": "stream",
     "text": [
      "Ashu\n"
     ]
    }
   ],
   "source": [
    "for i in range(10):\n",
    "    print(\"Ashu\")   \n",
    "    break  # break is used to terminate the loop or break the loop\n",
    "    print(\"singh\")"
   ]
  },
  {
   "cell_type": "markdown",
   "id": "b8b14903",
   "metadata": {},
   "source": [
    "### Question\n",
    "Write a python function to calculate the sum of  first 10 numbers.\n"
   ]
  },
  {
   "cell_type": "code",
   "execution_count": 51,
   "id": "5f49e3af",
   "metadata": {},
   "outputs": [
    {
     "name": "stdout",
     "output_type": "stream",
     "text": [
      "55\n"
     ]
    }
   ],
   "source": [
    "#Solution\n",
    "sum=0\n",
    "for i in range(1,11):\n",
    "    sum+=i\n",
    "print(sum)"
   ]
  },
  {
   "cell_type": "markdown",
   "id": "c37259c3",
   "metadata": {},
   "source": [
    "### Conditional Statements"
   ]
  },
  {
   "cell_type": "code",
   "execution_count": 43,
   "id": "e473fe4e",
   "metadata": {},
   "outputs": [
    {
     "name": "stdout",
     "output_type": "stream",
     "text": [
      "enter the marks45\n",
      "You need to work\n"
     ]
    }
   ],
   "source": [
    "n=int(input(\"enter the marks\"))\n",
    "if n==100:\n",
    "    print('You are the topper')\n",
    "else:\n",
    "    print('You need to work')"
   ]
  },
  {
   "cell_type": "markdown",
   "id": "27e62302",
   "metadata": {},
   "source": [
    "### Question \n",
    "Check if the given number is prime or not?"
   ]
  },
  {
   "cell_type": "code",
   "execution_count": 3,
   "id": "0c9be10c",
   "metadata": {},
   "outputs": [
    {
     "name": "stdout",
     "output_type": "stream",
     "text": [
      "enter the number: 95\n",
      "number is  not prime\n"
     ]
    }
   ],
   "source": [
    "#Solution:-\n",
    "n= int(input('enter the number: '))\n",
    "flag=0\n",
    "for i in range(2,n):\n",
    "    if (n%i==0):\n",
    "        flag+=1\n",
    "        break\n",
    "if flag==0:\n",
    "    print('number is prime')\n",
    "else:\n",
    "    print('number is  not prime')"
   ]
  },
  {
   "cell_type": "markdown",
   "id": "41f92cac",
   "metadata": {},
   "source": [
    "### Data Structures\n",
    "\n",
    "1. Muttable: List,Dictionary, Set\n",
    "2. Immutable: Tuple"
   ]
  },
  {
   "cell_type": "code",
   "execution_count": 6,
   "id": "c6eec92a",
   "metadata": {},
   "outputs": [
    {
     "name": "stdout",
     "output_type": "stream",
     "text": [
      "[1, 2, 3, 'Ashu', 10.8, 'Kumar']\n",
      "[1, 2, 3, 4, 5, 1, 1]\n",
      "[1, 2, 2.9, 'Ashu'] <class 'list'>\n",
      "1\n",
      "2\n",
      "2.9\n",
      "Ashu\n"
     ]
    }
   ],
   "source": [
    "#List\n",
    "lis=[1,2,3,\"Ashu\",10.8,\"Kumar\"]\n",
    "print(lis)\n",
    "\n",
    "\n",
    "a=[1,2,3,4,5,1,1]\n",
    "print(a)\n",
    "\n",
    "b=[1,2,2.9,'Ashu']\n",
    "print(b,type(b))\n",
    "\n",
    "#Traversing a list\n",
    "for i in b:\n",
    "    print(i)\n",
    "\n",
    "    \n",
    "for i in range(len(a)):\n",
    "    print(a[i])"
   ]
  },
  {
   "cell_type": "code",
   "execution_count": 7,
   "id": "9db051f9",
   "metadata": {},
   "outputs": [
    {
     "name": "stdout",
     "output_type": "stream",
     "text": [
      "[1, 2, 3, 4, 5, 1, 1]\n",
      "0\n",
      "7\n",
      "[1, 2, 3, 4, 5, 1, 1, 'kumar']\n",
      "[1, 2, 3, 'Ashu', 4, 5, 1, 1, 'kumar']\n",
      "[1, 2, 3, 'Ashu', 4, 5, 1, 1, 'kumar', 90, 89, 87, 'Python']\n",
      "[1, 2, 2.9]\n",
      "[2, 2.9]\n",
      "[1, 2, 3, 'Ashu', 4, 5, 1, 1, 'kumar', 90, 89, 87, 'Python']\n",
      "[1, 2, 3, 'Ashu', 4, 1, 1, 'kumar', 90, 89, 87, 'Python']\n"
     ]
    }
   ],
   "source": [
    "#How to find an element ion the list\n",
    "a=[1,2,3,4,5,1,1]\n",
    "print(a)\n",
    "print(a.index(1))\n",
    "print(len(a)) # length of list\n",
    "\n",
    "# How to add element's in the list \n",
    "a.append(\"kumar\")\n",
    "print(a)\n",
    "\n",
    "a.insert(3,'Ashu')\n",
    "print(a)\n",
    "\n",
    "a.extend([90,89,87,'Python'])\n",
    "# a.extend(b)\n",
    "print(a)\n",
    "\n",
    "\n",
    "#how to delete an element from a list\n",
    "b.pop()\n",
    "print(b)\n",
    "b.remove(1)\n",
    "print(b)\n",
    "\n",
    "\n",
    "# print(b[0])\n",
    "# print(len(b))\n",
    "\n",
    "\n",
    "#How to delete a list\n",
    "\n",
    "# del a\n",
    "# print(a)\n",
    "print(a)\n",
    "a.remove(a[5])\n",
    "print(a)"
   ]
  },
  {
   "cell_type": "code",
   "execution_count": 10,
   "id": "6bdf23b8",
   "metadata": {},
   "outputs": [
    {
     "name": "stdout",
     "output_type": "stream",
     "text": [
      "2\n",
      "3\n",
      "Ashu\n",
      "4\n",
      "1\n",
      "kumar\n",
      "90\n",
      "89\n",
      "87\n",
      "Python\n"
     ]
    }
   ],
   "source": []
  },
  {
   "cell_type": "code",
   "execution_count": 65,
   "id": "c6e8d905",
   "metadata": {},
   "outputs": [
    {
     "name": "stdout",
     "output_type": "stream",
     "text": [
      "enter the no. of students5\n",
      "enter the marks1\n",
      "enter the marks5\n",
      "enter the marks4\n",
      "enter the marks5\n",
      "enter the marks4\n",
      "[1, 5, 4, 5, 4]\n"
     ]
    }
   ],
   "source": [
    "Mark=[]\n",
    "\n",
    "N=int(input('enter the no. of students'))\n",
    "\n",
    "for i in range(N):\n",
    "    Ele=int(input('enter the marks '))\n",
    "    Mark.append(Ele)\n",
    "\n",
    "print(Mark)"
   ]
  },
  {
   "cell_type": "code",
   "execution_count": 9,
   "id": "a4a4a532",
   "metadata": {},
   "outputs": [
    {
     "name": "stdout",
     "output_type": "stream",
     "text": [
      "(1, 2, 3)\n",
      "3\n",
      "<class 'tuple'>\n",
      "(1, 2, 'Ashu') <class 'tuple'>\n"
     ]
    }
   ],
   "source": [
    "# tuple\n",
    "\n",
    "t = (1,2,3)\n",
    "print(t,type(t))\n",
    "\n",
    "# Check len just like a list\n",
    "print(len(t))\n",
    "\n",
    "#Converting list into tuple\n",
    "lis=[1,2,3,4,5]\n",
    "t_l=tuple(lis)\n",
    "\n",
    "#How to save a single element in tuple\n",
    "t_s=(1,)\n",
    "print(type(t_s))\n",
    "\n",
    "b=(1,2,\"Ashu\")\n",
    "print(b,type(b))\n",
    "\n",
    "del t_l\n",
    "# You cannot add new elements to a tuple once it is initialised meaning they are immutable\n",
    "\n",
    "# b.append(3)\n",
    "# print(b)"
   ]
  },
  {
   "cell_type": "code",
   "execution_count": 36,
   "id": "3eebd2e9",
   "metadata": {},
   "outputs": [
    {
     "name": "stdout",
     "output_type": "stream",
     "text": [
      "{'key1': 'value1', 'key2': 'value2', 1: 'value2'}\n",
      "key1 value1\n",
      "key2 value2\n",
      "1 value2\n"
     ]
    }
   ],
   "source": [
    "# Make a dictionary with {} and : to signify a key and a value\n",
    "my_dict={'key1':'value1','key2':'value2',1:'value2'}\n",
    "print(my_dict)\n",
    "\n",
    "# Traversing dictionary\n",
    "for i in my_dict:\n",
    "    print(i,my_dict[i])\n",
    "# my_dict['key2']"
   ]
  },
  {
   "cell_type": "code",
   "execution_count": 37,
   "id": "52fd0416",
   "metadata": {},
   "outputs": [
    {
     "name": "stdout",
     "output_type": "stream",
     "text": [
      "{'key1': 'value1', 'key2': 'value2', 1: 'value2', 3: 'Python', 2: 5}\n",
      "value2\n",
      "dict_items([('key1', 'value1'), ('key2', 'value2'), (1, 'value2'), (3, 909985), (2, 5)])\n",
      "{'key1': 'value1', 'key2': 'value2', 1: 'value2', 3: 909985}\n",
      "{'key1': 'value1', 'key2': 'value2', 1: 'value2'}\n",
      "dict_keys(['key1', 'key2', 1, 2])\n",
      "dict_values(['value1', 'value2', 'value2', 5])\n"
     ]
    },
    {
     "data": {
      "text/plain": [
       "{'key1': 'value1', 1: 'value2', 2: 5}"
      ]
     },
     "execution_count": 37,
     "metadata": {},
     "output_type": "execute_result"
    }
   ],
   "source": [
    "#How to add new elements in a dictionary\n",
    "my_dict[3]=\"Python\"\n",
    "my_dict[2]=5\n",
    "print(my_dict)\n",
    "len(my_dict)\n",
    "\n",
    "#updating\n",
    "my_dict[3]=909985\n",
    "my_dict\n",
    "\n",
    "\n",
    "#Accessing an element in dictionary\n",
    "print(my_dict['key2'])\n",
    "# print(my_dict)\n",
    "\n",
    "\n",
    "print(my_dict.items())\n",
    "\n",
    "\n",
    "\n",
    "# pop() method\n",
    "my_dict.pop(2)\n",
    "print(my_dict)\n",
    "  \n",
    "    \n",
    "    \n",
    "# popitem() method\n",
    "my_dict.popitem()\n",
    "print(my_dict)\n",
    "\n",
    "\n",
    "my_dict[2]=5\n",
    "\n",
    "print(my_dict.keys())\n",
    "print(my_dict.values())\n",
    "\n",
    "del(my_dict['key2'])\n",
    "my_dict"
   ]
  },
  {
   "cell_type": "code",
   "execution_count": 38,
   "id": "29c921a9",
   "metadata": {},
   "outputs": [],
   "source": [
    "del my_dict"
   ]
  },
  {
   "cell_type": "code",
   "execution_count": 39,
   "id": "c1bd3a00",
   "metadata": {},
   "outputs": [
    {
     "data": {
      "text/plain": [
       "{1, 2, 3}"
      ]
     },
     "execution_count": 39,
     "metadata": {},
     "output_type": "execute_result"
    }
   ],
   "source": [
    "x = set()\n",
    "# We add to sets with the add()\n",
    "x.add(1)\n",
    "x.add(2)\n",
    "x.add(3)\n",
    "x.add(2)\n",
    "x.add(1)\n",
    "x"
   ]
  },
  {
   "cell_type": "code",
   "execution_count": 43,
   "id": "b5d006f9",
   "metadata": {},
   "outputs": [
    {
     "name": "stdout",
     "output_type": "stream",
     "text": [
      "{1, 2, 3, 5, 6}\n",
      "{1, 2, 3, 5, 6, 9}\n"
     ]
    }
   ],
   "source": [
    "s={1,2,3,1,1,2,2,5,6,6}\n",
    "print(s)\n",
    "# Inserting an element in set\n",
    "s.add(9)\n",
    "print(s)"
   ]
  },
  {
   "cell_type": "code",
   "execution_count": 44,
   "id": "372371de",
   "metadata": {},
   "outputs": [],
   "source": [
    "s.pop()\n",
    "s.remove(6)"
   ]
  },
  {
   "cell_type": "code",
   "execution_count": 45,
   "id": "33c3e825",
   "metadata": {},
   "outputs": [
    {
     "data": {
      "text/plain": [
       "{2, 3, 5, 9}"
      ]
     },
     "execution_count": 45,
     "metadata": {},
     "output_type": "execute_result"
    }
   ],
   "source": [
    "s"
   ]
  },
  {
   "cell_type": "code",
   "execution_count": 27,
   "id": "9e59b800",
   "metadata": {},
   "outputs": [],
   "source": [
    "del s"
   ]
  },
  {
   "cell_type": "code",
   "execution_count": null,
   "id": "b1464832",
   "metadata": {},
   "outputs": [],
   "source": []
  },
  {
   "cell_type": "code",
   "execution_count": 3,
   "id": "a5312677",
   "metadata": {},
   "outputs": [],
   "source": [
    "a=20"
   ]
  },
  {
   "cell_type": "code",
   "execution_count": 5,
   "id": "d7ec564d",
   "metadata": {},
   "outputs": [
    {
     "name": "stdout",
     "output_type": "stream",
     "text": [
      "20\n"
     ]
    }
   ],
   "source": [
    "print(f\"{a}\")"
   ]
  },
  {
   "cell_type": "markdown",
   "id": "6c97538c",
   "metadata": {},
   "source": [
    "WAP to take marks as input (5 times) from user and save it into the list.\n",
    "use input() only once\n",
    "print number of students who scored more than 90"
   ]
  },
  {
   "cell_type": "code",
   "execution_count": 13,
   "id": "a6093574",
   "metadata": {},
   "outputs": [
    {
     "name": "stdout",
     "output_type": "stream",
     "text": [
      "enter the marks: 20\n",
      "enter the marks: 98\n",
      "enter the marks: 95\n",
      "enter the marks: 99\n",
      "enter the marks: 100\n"
     ]
    }
   ],
   "source": [
    "marks=[]\n",
    "for i in range(5):\n",
    "    n=int(input(\"enter the marks: \"))\n",
    "    marks.append(n)\n",
    "    "
   ]
  },
  {
   "cell_type": "code",
   "execution_count": 14,
   "id": "8693ccd0",
   "metadata": {},
   "outputs": [
    {
     "name": "stdout",
     "output_type": "stream",
     "text": [
      "marks= [20, 98, 95, 99, 100]\n"
     ]
    }
   ],
   "source": [
    "print(\"marks=\",marks)"
   ]
  },
  {
   "cell_type": "code",
   "execution_count": 16,
   "id": "4be1bbd6",
   "metadata": {},
   "outputs": [
    {
     "name": "stdout",
     "output_type": "stream",
     "text": [
      "4\n"
     ]
    }
   ],
   "source": [
    "count=0\n",
    "for i in marks:\n",
    "    if i>90:\n",
    "       \n",
    "        count=count+1\n",
    "print(count)"
   ]
  },
  {
   "cell_type": "code",
   "execution_count": 54,
   "id": "cc4a5dec",
   "metadata": {},
   "outputs": [
    {
     "name": "stdout",
     "output_type": "stream",
     "text": [
      "\r\n",
      "* \r\n",
      "* * \r\n",
      "* * * \r\n",
      "* * * * \r\n"
     ]
    }
   ],
   "source": [
    "for i in range(5):\n",
    "    for j in range(i):\n",
    "        print(\"* \",end=\"\")\n",
    "    print('\\r')"
   ]
  },
  {
   "cell_type": "code",
   "execution_count": 2,
   "id": "681528cd",
   "metadata": {},
   "outputs": [
    {
     "name": "stdout",
     "output_type": "stream",
     "text": [
      "<class 'int'>\n"
     ]
    }
   ],
   "source": [
    "a=10\n",
    "print(type(a))"
   ]
  },
  {
   "cell_type": "code",
   "execution_count": null,
   "id": "7c77101c",
   "metadata": {},
   "outputs": [],
   "source": []
  }
 ],
 "metadata": {
  "kernelspec": {
   "display_name": "Python 3 (ipykernel)",
   "language": "python",
   "name": "python3"
  },
  "language_info": {
   "codemirror_mode": {
    "name": "ipython",
    "version": 3
   },
   "file_extension": ".py",
   "mimetype": "text/x-python",
   "name": "python",
   "nbconvert_exporter": "python",
   "pygments_lexer": "ipython3",
   "version": "3.11.4"
  }
 },
 "nbformat": 4,
 "nbformat_minor": 5
}
